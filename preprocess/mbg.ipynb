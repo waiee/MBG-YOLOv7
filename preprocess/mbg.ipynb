{
 "cells": [
  {
   "cell_type": "markdown",
   "metadata": {},
   "source": [
    "# Automatic Detection of Mosquito Breeding Grounds"
   ]
  },
  {
   "cell_type": "code",
   "execution_count": 1,
   "metadata": {},
   "outputs": [],
   "source": [
    "# !git clone https://github.com/ultralytics/yolov5.git"
   ]
  },
  {
   "cell_type": "code",
   "execution_count": 2,
   "metadata": {},
   "outputs": [],
   "source": [
    "# !pip install -r requirements.txt"
   ]
  },
  {
   "cell_type": "code",
   "execution_count": 3,
   "metadata": {},
   "outputs": [],
   "source": [
    "import torch\n",
    "from IPython.display import Image"
   ]
  },
  {
   "cell_type": "code",
   "execution_count": 4,
   "metadata": {},
   "outputs": [
    {
     "name": "stdout",
     "output_type": "stream",
     "text": [
      "c:\\Users\\user\\Downloads\\projects\\AutoYOLOv5\\yolov5\n"
     ]
    },
    {
     "name": "stderr",
     "output_type": "stream",
     "text": [
      "c:\\Users\\user\\Downloads\\projects\\AutoYOLOv5\\myenv\\Lib\\site-packages\\IPython\\core\\magics\\osm.py:417: UserWarning: using dhist requires you to install the `pickleshare` library.\n",
      "  self.shell.db['dhist'] = compress_dhist(dhist)[-100:]\n"
     ]
    }
   ],
   "source": [
    "%cd yolov5"
   ]
  },
  {
   "cell_type": "code",
   "execution_count": 5,
   "metadata": {},
   "outputs": [],
   "source": [
    "# !pip install -r requirements.txt comet_ml"
   ]
  },
  {
   "cell_type": "markdown",
   "metadata": {},
   "source": [
    "## Split dataset into train and val folders"
   ]
  },
  {
   "cell_type": "code",
   "execution_count": 6,
   "metadata": {},
   "outputs": [],
   "source": [
    "# import os\n",
    "# import shutil\n",
    "# from sklearn.model_selection import train_test_split\n",
    "\n",
    "# # Set the path to the dataset directory\n",
    "# dataset_directory = \"C:/Users/user/Downloads/projects/AutoYOLOv5\"\n",
    "\n",
    "# # Set the paths for image and label folders\n",
    "# image_folder = os.path.join(dataset_directory, \"datasets/imagesplit\")\n",
    "# label_folder = os.path.join(dataset_directory, \"datasets/labelsplit\")\n",
    "\n",
    "# # Set the paths for the training and validation folders\n",
    "# train_directory = os.path.join(dataset_directory, \"datasets/train\")\n",
    "# val_directory = os.path.join(dataset_directory, \"datasets/val\")\n",
    "\n",
    "# # Create train and val directories if they don't exist\n",
    "# os.makedirs(train_directory, exist_ok=True)\n",
    "# os.makedirs(val_directory, exist_ok=True)\n",
    "\n",
    "# # Check if label_folder exists; if not, create it\n",
    "# if not os.path.exists(label_folder):\n",
    "#     os.makedirs(label_folder)\n",
    "\n",
    "# # Get lists of image and label files\n",
    "# image_files = [os.path.join(image_folder, file) for file in os.listdir(image_folder)]\n",
    "# label_files = [os.path.join(label_folder, file) for file in os.listdir(label_folder)]\n",
    "\n",
    "# # Ensure the lists are sorted for consistency\n",
    "# image_files.sort()\n",
    "# label_files.sort()\n",
    "\n",
    "# # Split the data into train and val sets\n",
    "# image_train, image_val, label_train, label_val = train_test_split(image_files, label_files, test_size=0.2, random_state=42)\n",
    "\n",
    "# # Move the training set to the train directory\n",
    "# for image_file, label_file in zip(image_train, label_train):\n",
    "#     shutil.move(image_file, os.path.join(train_directory, os.path.basename(image_file)))\n",
    "#     shutil.move(label_file, os.path.join(train_directory, os.path.basename(label_file)))\n",
    "\n",
    "# # Move the validation set to the val directory\n",
    "# for image_file, label_file in zip(image_val, label_val):\n",
    "#     shutil.move(image_file, os.path.join(val_directory, os.path.basename(image_file)))\n",
    "#     shutil.move(label_file, os.path.join(val_directory, os.path.basename(label_file)))\n"
   ]
  },
  {
   "cell_type": "markdown",
   "metadata": {},
   "source": [
    "## Directing splitted images into their belonged folders"
   ]
  },
  {
   "cell_type": "code",
   "execution_count": 7,
   "metadata": {},
   "outputs": [],
   "source": [
    "#test test"
   ]
  },
  {
   "cell_type": "markdown",
   "metadata": {},
   "source": [
    "## Train"
   ]
  },
  {
   "cell_type": "code",
   "execution_count": 8,
   "metadata": {},
   "outputs": [
    {
     "name": "stdout",
     "output_type": "stream",
     "text": [
      "^C\n"
     ]
    }
   ],
   "source": [
    "# Train YOLOv5s on MBG dataset\n",
    "!python train.py --img 512 --batch 32 --epochs 30 --data mbg_test.yaml --weights yolov5s.pt --cache"
   ]
  },
  {
   "cell_type": "markdown",
   "metadata": {},
   "source": [
    "## Detect Images"
   ]
  },
  {
   "cell_type": "code",
   "execution_count": null,
   "metadata": {},
   "outputs": [
    {
     "name": "stderr",
     "output_type": "stream",
     "text": [
      "C:\\Program Files\\Python311\\python.exe: can't open file 'c:\\\\Users\\\\user\\\\Downloads\\\\projects\\\\AutoYOLOv5\\\\detect.py': [Errno 2] No such file or directory\n"
     ]
    }
   ],
   "source": [
    "!python detect.py --source runs/train/exp/test1.jpg --weights best.pt"
   ]
  }
 ],
 "metadata": {
  "kernelspec": {
   "display_name": "myenv",
   "language": "python",
   "name": "python3"
  },
  "language_info": {
   "codemirror_mode": {
    "name": "ipython",
    "version": 3
   },
   "file_extension": ".py",
   "mimetype": "text/x-python",
   "name": "python",
   "nbconvert_exporter": "python",
   "pygments_lexer": "ipython3",
   "version": "3.11.2"
  }
 },
 "nbformat": 4,
 "nbformat_minor": 2
}
